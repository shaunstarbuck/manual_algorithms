{
 "cells": [
  {
   "cell_type": "code",
   "execution_count": 2,
   "metadata": {},
   "outputs": [],
   "source": [
    "import numpy as np\n",
    "import pandas as pd"
   ]
  },
  {
   "cell_type": "code",
   "execution_count": 3,
   "metadata": {},
   "outputs": [],
   "source": [
    "def load_data(path, header):\n",
    "    df = pd.read_csv(path, header = header)\n",
    "    return df"
   ]
  },
  {
   "cell_type": "code",
   "execution_count": 6,
   "metadata": {},
   "outputs": [],
   "source": [
    "# load insurance data with features {age, sex, bmi, children, smoker, region } and target charges\n",
    "insurance_df = load_data(\"data/insurance.csv\", header=0)"
   ]
  },
  {
   "cell_type": "code",
   "execution_count": 16,
   "metadata": {},
   "outputs": [
    {
     "data": {
      "text/html": [
       "<div>\n",
       "<style scoped>\n",
       "    .dataframe tbody tr th:only-of-type {\n",
       "        vertical-align: middle;\n",
       "    }\n",
       "\n",
       "    .dataframe tbody tr th {\n",
       "        vertical-align: top;\n",
       "    }\n",
       "\n",
       "    .dataframe thead th {\n",
       "        text-align: right;\n",
       "    }\n",
       "</style>\n",
       "<table border=\"1\" class=\"dataframe\">\n",
       "  <thead>\n",
       "    <tr style=\"text-align: right;\">\n",
       "      <th></th>\n",
       "      <th>age</th>\n",
       "      <th>sex</th>\n",
       "      <th>bmi</th>\n",
       "      <th>children</th>\n",
       "      <th>smoker</th>\n",
       "      <th>region</th>\n",
       "      <th>charges</th>\n",
       "      <th>sex_int</th>\n",
       "      <th>region_int</th>\n",
       "      <th>smoker_int</th>\n",
       "    </tr>\n",
       "  </thead>\n",
       "  <tbody>\n",
       "    <tr>\n",
       "      <th>0</th>\n",
       "      <td>19</td>\n",
       "      <td>female</td>\n",
       "      <td>27.900</td>\n",
       "      <td>0</td>\n",
       "      <td>yes</td>\n",
       "      <td>southwest</td>\n",
       "      <td>16884.92400</td>\n",
       "      <td>0</td>\n",
       "      <td>3</td>\n",
       "      <td>1</td>\n",
       "    </tr>\n",
       "    <tr>\n",
       "      <th>1</th>\n",
       "      <td>18</td>\n",
       "      <td>male</td>\n",
       "      <td>33.770</td>\n",
       "      <td>1</td>\n",
       "      <td>no</td>\n",
       "      <td>southeast</td>\n",
       "      <td>1725.55230</td>\n",
       "      <td>1</td>\n",
       "      <td>2</td>\n",
       "      <td>0</td>\n",
       "    </tr>\n",
       "    <tr>\n",
       "      <th>2</th>\n",
       "      <td>28</td>\n",
       "      <td>male</td>\n",
       "      <td>33.000</td>\n",
       "      <td>3</td>\n",
       "      <td>no</td>\n",
       "      <td>southeast</td>\n",
       "      <td>4449.46200</td>\n",
       "      <td>1</td>\n",
       "      <td>2</td>\n",
       "      <td>0</td>\n",
       "    </tr>\n",
       "    <tr>\n",
       "      <th>3</th>\n",
       "      <td>33</td>\n",
       "      <td>male</td>\n",
       "      <td>22.705</td>\n",
       "      <td>0</td>\n",
       "      <td>no</td>\n",
       "      <td>northwest</td>\n",
       "      <td>21984.47061</td>\n",
       "      <td>1</td>\n",
       "      <td>1</td>\n",
       "      <td>0</td>\n",
       "    </tr>\n",
       "    <tr>\n",
       "      <th>4</th>\n",
       "      <td>32</td>\n",
       "      <td>male</td>\n",
       "      <td>28.880</td>\n",
       "      <td>0</td>\n",
       "      <td>no</td>\n",
       "      <td>northwest</td>\n",
       "      <td>3866.85520</td>\n",
       "      <td>1</td>\n",
       "      <td>1</td>\n",
       "      <td>0</td>\n",
       "    </tr>\n",
       "    <tr>\n",
       "      <th>...</th>\n",
       "      <td>...</td>\n",
       "      <td>...</td>\n",
       "      <td>...</td>\n",
       "      <td>...</td>\n",
       "      <td>...</td>\n",
       "      <td>...</td>\n",
       "      <td>...</td>\n",
       "      <td>...</td>\n",
       "      <td>...</td>\n",
       "      <td>...</td>\n",
       "    </tr>\n",
       "    <tr>\n",
       "      <th>1333</th>\n",
       "      <td>50</td>\n",
       "      <td>male</td>\n",
       "      <td>30.970</td>\n",
       "      <td>3</td>\n",
       "      <td>no</td>\n",
       "      <td>northwest</td>\n",
       "      <td>10600.54830</td>\n",
       "      <td>1</td>\n",
       "      <td>1</td>\n",
       "      <td>0</td>\n",
       "    </tr>\n",
       "    <tr>\n",
       "      <th>1334</th>\n",
       "      <td>18</td>\n",
       "      <td>female</td>\n",
       "      <td>31.920</td>\n",
       "      <td>0</td>\n",
       "      <td>no</td>\n",
       "      <td>northeast</td>\n",
       "      <td>2205.98080</td>\n",
       "      <td>0</td>\n",
       "      <td>0</td>\n",
       "      <td>0</td>\n",
       "    </tr>\n",
       "    <tr>\n",
       "      <th>1335</th>\n",
       "      <td>18</td>\n",
       "      <td>female</td>\n",
       "      <td>36.850</td>\n",
       "      <td>0</td>\n",
       "      <td>no</td>\n",
       "      <td>southeast</td>\n",
       "      <td>1629.83350</td>\n",
       "      <td>0</td>\n",
       "      <td>2</td>\n",
       "      <td>0</td>\n",
       "    </tr>\n",
       "    <tr>\n",
       "      <th>1336</th>\n",
       "      <td>21</td>\n",
       "      <td>female</td>\n",
       "      <td>25.800</td>\n",
       "      <td>0</td>\n",
       "      <td>no</td>\n",
       "      <td>southwest</td>\n",
       "      <td>2007.94500</td>\n",
       "      <td>0</td>\n",
       "      <td>3</td>\n",
       "      <td>0</td>\n",
       "    </tr>\n",
       "    <tr>\n",
       "      <th>1337</th>\n",
       "      <td>61</td>\n",
       "      <td>female</td>\n",
       "      <td>29.070</td>\n",
       "      <td>0</td>\n",
       "      <td>yes</td>\n",
       "      <td>northwest</td>\n",
       "      <td>29141.36030</td>\n",
       "      <td>0</td>\n",
       "      <td>1</td>\n",
       "      <td>1</td>\n",
       "    </tr>\n",
       "  </tbody>\n",
       "</table>\n",
       "<p>1338 rows × 10 columns</p>\n",
       "</div>"
      ],
      "text/plain": [
       "      age     sex     bmi  children smoker     region      charges  sex_int  \\\n",
       "0      19  female  27.900         0    yes  southwest  16884.92400        0   \n",
       "1      18    male  33.770         1     no  southeast   1725.55230        1   \n",
       "2      28    male  33.000         3     no  southeast   4449.46200        1   \n",
       "3      33    male  22.705         0     no  northwest  21984.47061        1   \n",
       "4      32    male  28.880         0     no  northwest   3866.85520        1   \n",
       "...   ...     ...     ...       ...    ...        ...          ...      ...   \n",
       "1333   50    male  30.970         3     no  northwest  10600.54830        1   \n",
       "1334   18  female  31.920         0     no  northeast   2205.98080        0   \n",
       "1335   18  female  36.850         0     no  southeast   1629.83350        0   \n",
       "1336   21  female  25.800         0     no  southwest   2007.94500        0   \n",
       "1337   61  female  29.070         0    yes  northwest  29141.36030        0   \n",
       "\n",
       "      region_int  smoker_int  \n",
       "0              3           1  \n",
       "1              2           0  \n",
       "2              2           0  \n",
       "3              1           0  \n",
       "4              1           0  \n",
       "...          ...         ...  \n",
       "1333           1           0  \n",
       "1334           0           0  \n",
       "1335           2           0  \n",
       "1336           3           0  \n",
       "1337           1           1  \n",
       "\n",
       "[1338 rows x 10 columns]"
      ]
     },
     "execution_count": 16,
     "metadata": {},
     "output_type": "execute_result"
    }
   ],
   "source": [
    "insurance_df"
   ]
  },
  {
   "cell_type": "code",
   "execution_count": 15,
   "metadata": {},
   "outputs": [],
   "source": [
    "#Convert string categories to integers \n",
    "insurance_df['sex_int'] = insurance_df['sex'].map({'female': 0, 'male': 1})\n",
    "insurance_df['region_int'] = insurance_df['region'].map({'northeast': 0, 'northwest': 1, 'southeast' : 2, 'southwest': 3})\n",
    "insurance_df['smoker_int'] = insurance_df['smoker'].map({'no': 0, 'yes': 1})"
   ]
  },
  {
   "cell_type": "code",
   "execution_count": 48,
   "metadata": {},
   "outputs": [],
   "source": [
    "#Extract feature columns and convert to numpy matrix\n",
    "regression_df = insurance_df[['age', 'bmi', 'children', 'sex_int', 'region_int', 'smoker_int']]\n",
    "X_raw = regression_df.values"
   ]
  },
  {
   "cell_type": "code",
   "execution_count": 100,
   "metadata": {},
   "outputs": [],
   "source": [
    "#Create theta with initially random values\n",
    "theta = np.random.randn(X_raw.shape[1] + 1)\n",
    "\n",
    "#Target values\n",
    "y = insurance_df['charges']"
   ]
  },
  {
   "cell_type": "code",
   "execution_count": 58,
   "metadata": {},
   "outputs": [],
   "source": [
    "# Prepend column of ones for x0\n",
    "X = np.column_stack((np.ones(X.shape[0]), X_raw))\n"
   ]
  },
  {
   "cell_type": "code",
   "execution_count": 135,
   "metadata": {},
   "outputs": [
    {
     "data": {
      "text/plain": [
       "array([-10.3211136 ,  -7.51550413])"
      ]
     },
     "execution_count": 135,
     "metadata": {},
     "output_type": "execute_result"
    }
   ],
   "source": [
    "np.dot(X_small, theta)"
   ]
  },
  {
   "cell_type": "code",
   "execution_count": 132,
   "metadata": {},
   "outputs": [],
   "source": [
    "X_small = X[0:2, :]\n",
    "y_small = y[0:2]"
   ]
  },
  {
   "cell_type": "code",
   "execution_count": 64,
   "metadata": {},
   "outputs": [],
   "source": [
    "def mse_cost_function(x, y, theta):\n",
    "    #number of examples\n",
    "    m = x.shape[0]\n",
    "    # Projected target values\n",
    "    h_theta = np.dot(x, theta)\n",
    "    return (1/(2*m)) * np.sum((h_theta - y)**2)\n",
    "    "
   ]
  },
  {
   "cell_type": "code",
   "execution_count": 65,
   "metadata": {},
   "outputs": [
    {
     "data": {
      "text/plain": [
       "160295726.91393274"
      ]
     },
     "execution_count": 65,
     "metadata": {},
     "output_type": "execute_result"
    }
   ],
   "source": [
    "mse_cost_function(X, y, theta)"
   ]
  },
  {
   "cell_type": "code",
   "execution_count": 66,
   "metadata": {},
   "outputs": [
    {
     "data": {
      "text/plain": [
       "7"
      ]
     },
     "execution_count": 66,
     "metadata": {},
     "output_type": "execute_result"
    }
   ],
   "source": [
    "theta.size"
   ]
  },
  {
   "cell_type": "code",
   "execution_count": null,
   "metadata": {},
   "outputs": [],
   "source": []
  },
  {
   "cell_type": "code",
   "execution_count": 141,
   "metadata": {},
   "outputs": [],
   "source": [
    "def gradient_descent(x, y, theta):\n",
    "    theta_new = theta\n",
    "    theta_temp = np.zeros(theta.size)\n",
    "    alpha = 0.01\n",
    "    max_iters = 1\n",
    "    m = x.shape[0]\n",
    "    \n",
    "    \n",
    "    for j in range(0, max_iters):\n",
    "        #Update each theta\n",
    "        for i in range (0, theta_new.size):\n",
    "            h_theta = np.dot(x, theta_new)\n",
    "            print(h_theta-y)\n",
    "            theta_temp[i] = theta_new[i] - alpha*(1/m)*np.sum((h_theta-y)*x[:,i])\n",
    "        #Set theta_new to new values after simaltaneously updating\n",
    "        theta_new = theta_temp\n",
    "        \n",
    "    #theta = theta_temp\n",
    "    return theta_temp"
   ]
  },
  {
   "cell_type": "code",
   "execution_count": 142,
   "metadata": {},
   "outputs": [
    {
     "data": {
      "text/plain": [
       "array([1., 1., 1., ..., 1., 1., 1.])"
      ]
     },
     "execution_count": 142,
     "metadata": {},
     "output_type": "execute_result"
    }
   ],
   "source": [
    "X[:, 0]"
   ]
  },
  {
   "cell_type": "code",
   "execution_count": 143,
   "metadata": {},
   "outputs": [
    {
     "data": {
      "text/plain": [
       "0       1.709938e+06\n",
       "1       2.246553e+06\n",
       "2       1.983515e+06\n",
       "3       1.144898e+06\n",
       "4       1.672599e+06\n",
       "            ...     \n",
       "1333    1.481401e+06\n",
       "1334    2.224966e+06\n",
       "1335    2.515739e+06\n",
       "1336    1.530935e+06\n",
       "1337    1.157560e+06\n",
       "Name: charges, Length: 1338, dtype: float64"
      ]
     },
     "execution_count": 143,
     "metadata": {},
     "output_type": "execute_result"
    }
   ],
   "source": [
    "h_theta = np.dot(X, theta_new)\n",
    "\n",
    "h_theta-y"
   ]
  },
  {
   "cell_type": "code",
   "execution_count": 144,
   "metadata": {},
   "outputs": [
    {
     "name": "stdout",
     "output_type": "stream",
     "text": [
      "0   -16884.9240\n",
      "1    -1725.5523\n",
      "Name: charges, dtype: float64\n",
      "0   -16884.9240\n",
      "1    -1725.5523\n",
      "Name: charges, dtype: float64\n",
      "0   -16884.9240\n",
      "1    -1725.5523\n",
      "Name: charges, dtype: float64\n",
      "0   -16884.9240\n",
      "1    -1725.5523\n",
      "Name: charges, dtype: float64\n",
      "0   -16884.9240\n",
      "1    -1725.5523\n",
      "Name: charges, dtype: float64\n",
      "0   -16884.9240\n",
      "1    -1725.5523\n",
      "Name: charges, dtype: float64\n",
      "0   -16884.9240\n",
      "1    -1725.5523\n",
      "Name: charges, dtype: float64\n"
     ]
    }
   ],
   "source": [
    "theta_new = gradient_descent(X_small, y_small, np.zeros(7))"
   ]
  },
  {
   "cell_type": "code",
   "execution_count": 140,
   "metadata": {},
   "outputs": [
    {
     "data": {
      "text/plain": [
       "array([  -963.72313583, -17523.97846457,  79685.68065744, -11858.48654996,\n",
       "       -11799.15097841, -51326.78428665,  -8508.2270007 ])"
      ]
     },
     "execution_count": 140,
     "metadata": {},
     "output_type": "execute_result"
    }
   ],
   "source": [
    "theta_new"
   ]
  },
  {
   "cell_type": "code",
   "execution_count": 114,
   "metadata": {},
   "outputs": [
    {
     "data": {
      "text/plain": [
       "array([-1.01740084e+37, -3.61801798e+38,  4.35376685e+40, -1.45009349e+41,\n",
       "       -5.91858324e+40, -1.75894265e+41, -1.76441507e+40])"
      ]
     },
     "execution_count": 114,
     "metadata": {},
     "output_type": "execute_result"
    }
   ],
   "source": [
    "theta_new"
   ]
  },
  {
   "cell_type": "code",
   "execution_count": null,
   "metadata": {},
   "outputs": [],
   "source": []
  },
  {
   "cell_type": "code",
   "execution_count": 9,
   "metadata": {},
   "outputs": [],
   "source": []
  },
  {
   "cell_type": "code",
   "execution_count": null,
   "metadata": {},
   "outputs": [],
   "source": []
  },
  {
   "cell_type": "code",
   "execution_count": null,
   "metadata": {},
   "outputs": [],
   "source": []
  }
 ],
 "metadata": {
  "kernelspec": {
   "display_name": "Python 3",
   "language": "python",
   "name": "python3"
  },
  "language_info": {
   "codemirror_mode": {
    "name": "ipython",
    "version": 3
   },
   "file_extension": ".py",
   "mimetype": "text/x-python",
   "name": "python",
   "nbconvert_exporter": "python",
   "pygments_lexer": "ipython3",
   "version": "3.7.6"
  }
 },
 "nbformat": 4,
 "nbformat_minor": 4
}

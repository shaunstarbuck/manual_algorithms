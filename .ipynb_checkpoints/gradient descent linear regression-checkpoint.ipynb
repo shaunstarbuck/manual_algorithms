{
 "cells": [
  {
   "cell_type": "code",
   "execution_count": 1,
   "metadata": {},
   "outputs": [],
   "source": [
    "import numpy as np\n",
    "import pandas as pd\n",
    "\n",
    "import matplotlib.pyplot as plt\n",
    "\n",
    "from mpl_toolkits import mplot3d"
   ]
  },
  {
   "cell_type": "code",
   "execution_count": 2,
   "metadata": {},
   "outputs": [],
   "source": [
    "from sklearn import linear_model"
   ]
  },
  {
   "cell_type": "code",
   "execution_count": 3,
   "metadata": {},
   "outputs": [],
   "source": [
    "def load_data(path, header):\n",
    "    df = pd.read_csv(path, header = header)\n",
    "    return df"
   ]
  },
  {
   "cell_type": "code",
   "execution_count": 4,
   "metadata": {},
   "outputs": [],
   "source": [
    "# load insurance data with features {age, sex, bmi, children, smoker, region } and target charges\n",
    "insurance_df = load_data(\"data/insurance.csv\", header=0)"
   ]
  },
  {
   "cell_type": "code",
   "execution_count": null,
   "metadata": {},
   "outputs": [],
   "source": [
    "insurance_df"
   ]
  },
  {
   "cell_type": "code",
   "execution_count": 5,
   "metadata": {},
   "outputs": [],
   "source": [
    "X = insurance_df['bmi']\n",
    "y = insurance_df['charges']\n",
    "\n",
    "x_small =X[0:2]\n",
    "y_small = y[0:2]\n",
    "\n",
    "x_single = np.column_stack((np.ones(1), X[0:1]))\n",
    "y_single = y[0:1]\n",
    "\n",
    "X_full = np.column_stack((np.ones(X.shape[0]),X))"
   ]
  },
  {
   "cell_type": "code",
   "execution_count": null,
   "metadata": {},
   "outputs": [],
   "source": [
    "plt.scatter(X, y)"
   ]
  },
  {
   "cell_type": "code",
   "execution_count": 31,
   "metadata": {},
   "outputs": [],
   "source": [
    "#Fit sklearn for comparison\n",
    "lm = linear_model.LinearRegression()\n",
    "model = lm.fit(X.values.reshape(-1,1), y)"
   ]
  },
  {
   "cell_type": "code",
   "execution_count": 32,
   "metadata": {},
   "outputs": [
    {
     "data": {
      "text/plain": [
       "array([393.8730308])"
      ]
     },
     "execution_count": 32,
     "metadata": {},
     "output_type": "execute_result"
    }
   ],
   "source": [
    "model.coef_"
   ]
  },
  {
   "cell_type": "code",
   "execution_count": 33,
   "metadata": {},
   "outputs": [
    {
     "data": {
      "text/plain": [
       "1192.9372089611516"
      ]
     },
     "execution_count": 33,
     "metadata": {},
     "output_type": "execute_result"
    }
   ],
   "source": [
    "model.intercept_"
   ]
  },
  {
   "cell_type": "code",
   "execution_count": null,
   "metadata": {},
   "outputs": [],
   "source": [
    "lm = linear_model.LinearRegression()\n",
    "model = lm.fit(X[0:2].values.reshape(-1,1), y[0:2])"
   ]
  },
  {
   "cell_type": "code",
   "execution_count": null,
   "metadata": {},
   "outputs": [],
   "source": [
    "model.predict(X[0:2].values.reshape(-1,1))"
   ]
  },
  {
   "cell_type": "code",
   "execution_count": null,
   "metadata": {},
   "outputs": [],
   "source": [
    "model.coef_"
   ]
  },
  {
   "cell_type": "code",
   "execution_count": null,
   "metadata": {},
   "outputs": [],
   "source": []
  },
  {
   "cell_type": "code",
   "execution_count": null,
   "metadata": {},
   "outputs": [],
   "source": [
    "#Add a columns of ones for theta_0\n",
    "x_ready = np.column_stack((np.ones(2), x_small))\n",
    "\n",
    "#Initialize theta to random values\n",
    "theta = np.random.randn(2)"
   ]
  },
  {
   "cell_type": "code",
   "execution_count": null,
   "metadata": {},
   "outputs": [],
   "source": [
    "h_theta = np.dot(x_ready, theta)"
   ]
  },
  {
   "cell_type": "code",
   "execution_count": null,
   "metadata": {},
   "outputs": [],
   "source": [
    "(h_theta-y_small)"
   ]
  },
  {
   "cell_type": "code",
   "execution_count": null,
   "metadata": {},
   "outputs": [],
   "source": [
    "x_ready"
   ]
  },
  {
   "cell_type": "code",
   "execution_count": null,
   "metadata": {},
   "outputs": [],
   "source": [
    "(h_theta-y_small)*x_ready[:,1]"
   ]
  },
  {
   "cell_type": "code",
   "execution_count": null,
   "metadata": {},
   "outputs": [],
   "source": [
    "(h_theta - y_small)*x_ready[:,1]"
   ]
  },
  {
   "cell_type": "code",
   "execution_count": 6,
   "metadata": {},
   "outputs": [],
   "source": [
    "def mse_cost_function(x, y, theta):\n",
    "    m = x.shape[0]\n",
    "    h_theta = np.dot(x, theta)\n",
    "    mse = 1/(2*m) * np.sum((h_theta - y)**2)\n",
    "    return mse"
   ]
  },
  {
   "cell_type": "code",
   "execution_count": null,
   "metadata": {},
   "outputs": [],
   "source": [
    "mse_cost_function()"
   ]
  },
  {
   "cell_type": "code",
   "execution_count": null,
   "metadata": {},
   "outputs": [],
   "source": []
  },
  {
   "cell_type": "code",
   "execution_count": null,
   "metadata": {},
   "outputs": [],
   "source": [
    "theta0 = np.arange(-100, 1500, 100)\n",
    "theta1 = np.arange(-100, 1500, 100)\n",
    "\n",
    "J_theta = np.zeros((theta0.size, theta1.size))\n",
    "for i in range(0, theta0.size):\n",
    "    for j in range(0, theta0.size):\n",
    "        J_theta[i,j] = mse_cost_function(X_full, y, [theta0[i], theta1[j]])"
   ]
  },
  {
   "cell_type": "code",
   "execution_count": null,
   "metadata": {},
   "outputs": [],
   "source": []
  },
  {
   "cell_type": "code",
   "execution_count": null,
   "metadata": {},
   "outputs": [],
   "source": [
    "fig= plt.figure()\n",
    "ax = plt.axes(projection='3d')\n",
    "ax.contour3D(theta0, theta1, J_theta)"
   ]
  },
  {
   "cell_type": "code",
   "execution_count": null,
   "metadata": {},
   "outputs": [],
   "source": [
    "y_hat = np.dot(x_input_var,theta)"
   ]
  },
  {
   "cell_type": "code",
   "execution_count": null,
   "metadata": {},
   "outputs": [],
   "source": [
    "np.array([1.0, input_var]) "
   ]
  },
  {
   "cell_type": "code",
   "execution_count": null,
   "metadata": {},
   "outputs": [],
   "source": [
    "output_var[0]-y_hat"
   ]
  },
  {
   "cell_type": "code",
   "execution_count": null,
   "metadata": {},
   "outputs": [],
   "source": [
    "np.array([1.0, input_var[0]]) * (output_var[0]-y_hat)"
   ]
  },
  {
   "cell_type": "code",
   "execution_count": 18,
   "metadata": {},
   "outputs": [],
   "source": [
    "def vectorized_gradient_descent(x, y, theta):\n",
    "    ''' Wonky in some way'''\n",
    "    theta_new = theta\n",
    "    theta_temp = np.zeros(theta.size)\n",
    "    alpha = 0.0001\n",
    "    max_iters = 20000\n",
    "    m = x.shape[0]\n",
    "    print(\"m = {}\".format(m))\n",
    "    mse = np.zeros(max_iters)\n",
    "    #Epsilon measures cost convergence\n",
    "    epsilon = 0.00001\n",
    "    \n",
    "    for i in range(0, max_iters):\n",
    "        mse[i] = mse_cost_function(x, y, theta_new)\n",
    "        if i > 1:\n",
    "            cost_diff0 = abs(mse[i] - mse[i-1])\n",
    "            cost_diff1 = abs(mse[i-1] - mse[i-2])\n",
    "            if cost_diff0 < epsilon and cost_diff1 < epsilon:\n",
    "                print(\"converged\")\n",
    "                break\n",
    "        for j in range(0, theta_new.size):\n",
    "            h_theta = np.dot(x, theta_new)\n",
    "            #print(\"h_theta = {}, iter = {}, j={}\".format(h_theta, i, j))\n",
    "            gradient = np.sum((h_theta-y)*x[:,j])\n",
    "            #gradient = np.dot((h_theta-y), x[:,j])\n",
    "            #print(\"gradient: {}, x_j: {}\".format(gradient, x[:,j]))\n",
    "            theta_temp[j] = theta_new[j] - (alpha/m)*gradient\n",
    "        #Update theta_new with new values\n",
    "        #print(\"theta_new = {}, theta_temp = {}\".format(theta_new, theta_temp))\n",
    "        theta_new = theta_temp\n",
    "    \n",
    "    return theta_new, mse"
   ]
  },
  {
   "cell_type": "code",
   "execution_count": 5,
   "metadata": {},
   "outputs": [],
   "source": [
    "def batch_gradient_descent(x, y, theta):\n",
    "    theta_new = theta\n",
    "    theta_temp = np.zeros(theta.size)\n",
    "    alpha = 0.001\n",
    "    max_iters = 20000\n",
    "    m = x.shape[0]\n",
    "    print(\"m = {}\".format(m))\n",
    "    mse = np.zeros(max_iters)\n",
    "    #Epsilon measures cost convergence\n",
    "    epsilon = 0.00001\n",
    "    \n",
    "    for i in range(0, max_iters):\n",
    "        mse[i] = mse_cost_function(x, y, theta_new)\n",
    "        if i > 1:\n",
    "            cost_diff0 = abs(mse[i] - mse[i-1])\n",
    "            cost_diff1 = abs(mse[i-1] - mse[i-2])\n",
    "            if cost_diff0 < epsilon and cost_diff1 < epsilon:\n",
    "                print(\"converged at iteration {}\".format(i))\n",
    "                break\n",
    "        for x_sample,y_sample in zip(x, y):\n",
    "            #Calculate estimated value of y\n",
    "            h_theta = np.dot(x_sample, theta_new)\n",
    "            #Calculate gradient\n",
    "            gradient = (h_theta-y_sample)*x_sample\n",
    "            theta_new = theta_new - (alpha/m)*gradient\n",
    "       \n",
    "    \n",
    "    return theta_new, mse"
   ]
  },
  {
   "cell_type": "code",
   "execution_count": null,
   "metadata": {},
   "outputs": [],
   "source": [
    "np.dot(x_ready, theta)"
   ]
  },
  {
   "cell_type": "code",
   "execution_count": null,
   "metadata": {},
   "outputs": [],
   "source": [
    "X.shape"
   ]
  },
  {
   "cell_type": "code",
   "execution_count": null,
   "metadata": {},
   "outputs": [],
   "source": [
    "theta_full"
   ]
  },
  {
   "cell_type": "code",
   "execution_count": null,
   "metadata": {},
   "outputs": [],
   "source": [
    "cost"
   ]
  },
  {
   "cell_type": "code",
   "execution_count": 45,
   "metadata": {},
   "outputs": [
    {
     "name": "stdout",
     "output_type": "stream",
     "text": [
      "m = 1338\n"
     ]
    }
   ],
   "source": [
    "theta_full, cost = batch_gradient_descent(X_full, y, theta)"
   ]
  },
  {
   "cell_type": "code",
   "execution_count": 46,
   "metadata": {},
   "outputs": [
    {
     "data": {
      "text/plain": [
       "array([646.79169107, 411.89868205])"
      ]
     },
     "execution_count": 46,
     "metadata": {},
     "output_type": "execute_result"
    }
   ],
   "source": [
    "theta_full"
   ]
  },
  {
   "cell_type": "code",
   "execution_count": null,
   "metadata": {},
   "outputs": [],
   "source": []
  },
  {
   "cell_type": "code",
   "execution_count": null,
   "metadata": {},
   "outputs": [],
   "source": [
    "x_triv = np.column_stack((np.ones(2), [1, 2]))\n",
    "y_triv = np.array([1,2])"
   ]
  },
  {
   "cell_type": "code",
   "execution_count": null,
   "metadata": {},
   "outputs": [],
   "source": [
    "theta_triv, cost = gradient_descent(x_triv, y_triv, theta)"
   ]
  },
  {
   "cell_type": "code",
   "execution_count": null,
   "metadata": {},
   "outputs": [],
   "source": []
  },
  {
   "cell_type": "code",
   "execution_count": null,
   "metadata": {},
   "outputs": [],
   "source": [
    "#theta_small, cost = gradient_descent(x_ready, y_small, theta)"
   ]
  },
  {
   "cell_type": "code",
   "execution_count": 43,
   "metadata": {},
   "outputs": [
    {
     "data": {
      "text/plain": [
       "[<matplotlib.lines.Line2D at 0x2895a3e4448>]"
      ]
     },
     "execution_count": 43,
     "metadata": {},
     "output_type": "execute_result"
    },
    {
     "data": {
      "image/png": "[encoded data removed]",
      "text/plain": [
       "<Figure size 432x288 with 1 Axes>"
      ]
     },
     "metadata": {
      "needs_background": "light"
     },
     "output_type": "display_data"
    }
   ],
   "source": [
    "plt.plot(cost[10:])"
   ]
  },
  {
   "cell_type": "code",
   "execution_count": null,
   "metadata": {},
   "outputs": [],
   "source": []
  },
  {
   "cell_type": "code",
   "execution_count": null,
   "metadata": {},
   "outputs": [],
   "source": []
  },
  {
   "cell_type": "code",
   "execution_count": null,
   "metadata": {},
   "outputs": [],
   "source": [
    "x_small"
   ]
  },
  {
   "cell_type": "code",
   "execution_count": null,
   "metadata": {},
   "outputs": [],
   "source": [
    "y_small"
   ]
  },
  {
   "cell_type": "code",
   "execution_count": null,
   "metadata": {},
   "outputs": [],
   "source": [
    "y_small"
   ]
  },
  {
   "cell_type": "code",
   "execution_count": null,
   "metadata": {},
   "outputs": [],
   "source": [
    "theta_single, cost = batch_gradient_descent(x_single, y_single, theta)"
   ]
  },
  {
   "cell_type": "code",
   "execution_count": null,
   "metadata": {},
   "outputs": [],
   "source": [
    "np.dot(x_single,theta_single)"
   ]
  },
  {
   "cell_type": "code",
   "execution_count": null,
   "metadata": {},
   "outputs": [],
   "source": [
    "#theta = np.array([-0.4,1.4])\n",
    "#theta = np.random.randn(2)\n",
    "theta = np.zeros(2)"
   ]
  },
  {
   "cell_type": "code",
   "execution_count": null,
   "metadata": {},
   "outputs": [],
   "source": [
    "x_trivial = np.arange(0,10)\n",
    "y_triv = np.array([1,3,2,5,7,8,8,9,10,12])\n",
    "\n",
    "x_triv = np.column_stack((np.ones(x_trivial.size), x_trivial))\n",
    "\n",
    "theta_triv, cost = batch_gradient_descent(x_triv[0:2], y_triv[0:2], theta)"
   ]
  },
  {
   "cell_type": "code",
   "execution_count": null,
   "metadata": {},
   "outputs": [],
   "source": [
    "theta_triv"
   ]
  },
  {
   "cell_type": "code",
   "execution_count": 7,
   "metadata": {},
   "outputs": [],
   "source": [
    "\"\"\"Generate comparison data\"\"\"\n",
    "true_slope = 10.889\n",
    "true_intercept = 3.456\n",
    "input_var = np.arange(0.0,100.0)\n",
    "output_var = true_slope * input_var + true_intercept + 500.0 * np.random.rand(len(input_var))"
   ]
  },
  {
   "cell_type": "code",
   "execution_count": null,
   "metadata": {},
   "outputs": [],
   "source": []
  },
  {
   "cell_type": "code",
   "execution_count": null,
   "metadata": {},
   "outputs": [],
   "source": []
  },
  {
   "cell_type": "code",
   "execution_count": 9,
   "metadata": {},
   "outputs": [],
   "source": [
    "x_input_var = np.column_stack([np.ones(input_var.shape[0]), input_var])"
   ]
  },
  {
   "cell_type": "code",
   "execution_count": 11,
   "metadata": {},
   "outputs": [],
   "source": [
    "theta = np.zeros(2)"
   ]
  },
  {
   "cell_type": "code",
   "execution_count": 12,
   "metadata": {},
   "outputs": [
    {
     "name": "stdout",
     "output_type": "stream",
     "text": [
      "m = 100\n",
      "converged at iteration 13690\n"
     ]
    }
   ],
   "source": [
    "theta_test, test_cost = batch_gradient_descent(x_input_var, output_var, theta)"
   ]
  },
  {
   "cell_type": "code",
   "execution_count": 13,
   "metadata": {},
   "outputs": [
    {
     "data": {
      "text/plain": [
       "array([254.10755786,  10.9026826 ])"
      ]
     },
     "execution_count": 13,
     "metadata": {},
     "output_type": "execute_result"
    }
   ],
   "source": [
    "theta_test"
   ]
  },
  {
   "cell_type": "code",
   "execution_count": 19,
   "metadata": {},
   "outputs": [
    {
     "name": "stdout",
     "output_type": "stream",
     "text": [
      "m = 100\n"
     ]
    }
   ],
   "source": [
    "theta_test1, test_cost1 = vectorized_gradient_descent(x_input_var, output_var, theta)"
   ]
  },
  {
   "cell_type": "code",
   "execution_count": 20,
   "metadata": {},
   "outputs": [
    {
     "data": {
      "text/plain": [
       "array([100.3841433 ,  13.27037064])"
      ]
     },
     "execution_count": 20,
     "metadata": {},
     "output_type": "execute_result"
    }
   ],
   "source": [
    "theta_test1"
   ]
  },
  {
   "cell_type": "code",
   "execution_count": 21,
   "metadata": {},
   "outputs": [
    {
     "data": {
      "text/plain": [
       "[<matplotlib.lines.Line2D at 0x1f4c9297708>]"
      ]
     },
     "execution_count": 21,
     "metadata": {},
     "output_type": "execute_result"
    },
    {
     "data": {
      "image/png": "[encoded data removed]",
      "text/plain": [
       "<Figure size 432x288 with 1 Axes>"
      ]
     },
     "metadata": {
      "needs_background": "light"
     },
     "output_type": "display_data"
    }
   ],
   "source": [
    "plt.plot(test_cost1[10:])"
   ]
  },
  {
   "cell_type": "code",
   "execution_count": null,
   "metadata": {},
   "outputs": [],
   "source": []
  }
 ],
 "metadata": {
  "kernelspec": {
   "display_name": "Python 3",
   "language": "python",
   "name": "python3"
  },
  "language_info": {
   "codemirror_mode": {
    "name": "ipython",
    "version": 3
   },
   "file_extension": ".py",
   "mimetype": "text/x-python",
   "name": "python",
   "nbconvert_exporter": "python",
   "pygments_lexer": "ipython3",
   "version": "3.7.6"
  }
 },
 "nbformat": 4,
 "nbformat_minor": 4
}
